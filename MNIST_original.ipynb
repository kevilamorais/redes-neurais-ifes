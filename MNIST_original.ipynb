{
  "nbformat": 4,
  "nbformat_minor": 0,
  "metadata": {
    "colab": {
      "provenance": []
    },
    "kernelspec": {
      "name": "python3",
      "display_name": "Python 3"
    },
    "language_info": {
      "name": "python"
    }
  },
  "cells": [
    {
      "cell_type": "markdown",
      "source": [
        "#Classificador para a base MNIST original\n",
        "\n",
        "Implementar um rede neural que resolva satisfatoriamente (>0.97 acc) o dataset MNIST original."
      ],
      "metadata": {
        "id": "n-hAVfjIN2nO"
      }
    },
    {
      "cell_type": "code",
      "execution_count": 25,
      "metadata": {
        "id": "2uIIim8D277J"
      },
      "outputs": [],
      "source": [
        "import tensorflow as tf\n",
        "from tensorflow.keras.datasets import mnist"
      ]
    },
    {
      "cell_type": "code",
      "source": [
        "(train_images, train_labels), (test_images, test_labels) = mnist.load_data()"
      ],
      "metadata": {
        "id": "0IPxQtiY3BY_"
      },
      "execution_count": 26,
      "outputs": []
    },
    {
      "cell_type": "code",
      "source": [
        "def get_unique_numbers(numbers):\n",
        "\n",
        "    list_of_unique_numbers = []\n",
        "\n",
        "    unique_numbers = set(numbers)\n",
        "\n",
        "    for number in unique_numbers:\n",
        "        list_of_unique_numbers.append(number)\n",
        "\n",
        "    return list_of_unique_numbers\n",
        "\n",
        "\n",
        "print(get_unique_numbers(train_labels))\n",
        "no_classes = len(get_unique_numbers(train_labels))"
      ],
      "metadata": {
        "colab": {
          "base_uri": "https://localhost:8080/"
        },
        "id": "B70E06_x99vu",
        "outputId": "b76849e8-0d07-4bdb-90da-0f43be43b9f9"
      },
      "execution_count": 38,
      "outputs": [
        {
          "output_type": "stream",
          "name": "stdout",
          "text": [
            "10\n"
          ]
        }
      ]
    },
    {
      "cell_type": "code",
      "source": [
        "model = Sequential()\n",
        "model.add(Conv2D(32, kernel_size=(3, 3), activation='relu', input_shape=input_shape))\n",
        "model.add(MaxPooling2D(pool_size=(2, 2)))\n",
        "model.add(Dropout(0.25))\n",
        "model.add(Conv2D(64, kernel_size=(3, 3), activation='relu'))\n",
        "model.add(MaxPooling2D(pool_size=(2, 2)))\n",
        "model.add(Dropout(0.25))\n",
        "model.add(Flatten())\n",
        "model.add(Dense(256, activation='relu'))\n",
        "model.add(Dense(no_classes, activation='softmax'))\n",
        "\n",
        "model.compile(\n",
        "    optimizer=tf.keras.optimizers.Adam(0.001),\n",
        "    loss=tf.keras.losses.SparseCategoricalCrossentropy(from_logits=True),\n",
        "    metrics=[\"accuracy\"],\n",
        ")\n",
        "\n",
        "model.fit(\n",
        "    train_images, train_labels,\n",
        "    epochs=30)"
      ],
      "metadata": {
        "colab": {
          "base_uri": "https://localhost:8080/"
        },
        "id": "GF3ZBmLU3Jds",
        "outputId": "a86e50b4-1284-42f2-d247-243651936887"
      },
      "execution_count": 39,
      "outputs": [
        {
          "output_type": "stream",
          "name": "stdout",
          "text": [
            "Epoch 1/30\n"
          ]
        },
        {
          "output_type": "stream",
          "name": "stderr",
          "text": [
            "/usr/local/lib/python3.10/dist-packages/keras/backend.py:5612: UserWarning: \"`sparse_categorical_crossentropy` received `from_logits=True`, but the `output` argument was produced by a Softmax activation and thus does not represent logits. Was this intended?\n",
            "  output, from_logits = _get_logits(\n"
          ]
        },
        {
          "output_type": "stream",
          "name": "stdout",
          "text": [
            "1875/1875 [==============================] - 76s 40ms/step - loss: 0.5272 - accuracy: 0.9215\n",
            "Epoch 2/30\n",
            "1875/1875 [==============================] - 76s 41ms/step - loss: 0.0915 - accuracy: 0.9716\n",
            "Epoch 3/30\n",
            "1875/1875 [==============================] - 76s 41ms/step - loss: 0.0751 - accuracy: 0.9771\n",
            "Epoch 4/30\n",
            "1875/1875 [==============================] - 76s 40ms/step - loss: 0.0717 - accuracy: 0.9782\n",
            "Epoch 5/30\n",
            "1875/1875 [==============================] - 76s 40ms/step - loss: 0.0601 - accuracy: 0.9816\n",
            "Epoch 6/30\n",
            "1875/1875 [==============================] - 76s 40ms/step - loss: 0.0556 - accuracy: 0.9837\n",
            "Epoch 7/30\n",
            "1875/1875 [==============================] - 75s 40ms/step - loss: 0.0540 - accuracy: 0.9840\n",
            "Epoch 8/30\n",
            "1875/1875 [==============================] - 75s 40ms/step - loss: 0.0483 - accuracy: 0.9859\n",
            "Epoch 9/30\n",
            "1875/1875 [==============================] - 77s 41ms/step - loss: 0.0468 - accuracy: 0.9866\n",
            "Epoch 10/30\n",
            "1875/1875 [==============================] - 74s 40ms/step - loss: 0.0455 - accuracy: 0.9870\n",
            "Epoch 11/30\n",
            "1875/1875 [==============================] - 76s 41ms/step - loss: 0.0435 - accuracy: 0.9877\n",
            "Epoch 12/30\n",
            "1875/1875 [==============================] - 76s 40ms/step - loss: 0.0433 - accuracy: 0.9878\n",
            "Epoch 13/30\n",
            "1875/1875 [==============================] - 79s 42ms/step - loss: 0.0408 - accuracy: 0.9885\n",
            "Epoch 14/30\n",
            "1875/1875 [==============================] - 73s 39ms/step - loss: 0.0422 - accuracy: 0.9888\n",
            "Epoch 15/30\n",
            "1875/1875 [==============================] - 75s 40ms/step - loss: 0.0413 - accuracy: 0.9892\n",
            "Epoch 16/30\n",
            "1875/1875 [==============================] - 75s 40ms/step - loss: 0.0441 - accuracy: 0.9883\n",
            "Epoch 17/30\n",
            "1875/1875 [==============================] - 75s 40ms/step - loss: 0.0374 - accuracy: 0.9901\n",
            "Epoch 18/30\n",
            "1875/1875 [==============================] - 77s 41ms/step - loss: 0.0419 - accuracy: 0.9894\n",
            "Epoch 19/30\n",
            "1875/1875 [==============================] - 74s 39ms/step - loss: 0.0397 - accuracy: 0.9896\n",
            "Epoch 20/30\n",
            "1875/1875 [==============================] - 77s 41ms/step - loss: 0.0381 - accuracy: 0.9907\n",
            "Epoch 21/30\n",
            "1875/1875 [==============================] - 74s 39ms/step - loss: 0.0352 - accuracy: 0.9909\n",
            "Epoch 22/30\n",
            "1875/1875 [==============================] - 75s 40ms/step - loss: 0.0448 - accuracy: 0.9894\n",
            "Epoch 23/30\n",
            "1875/1875 [==============================] - 76s 41ms/step - loss: 0.0357 - accuracy: 0.9910\n",
            "Epoch 24/30\n",
            "1875/1875 [==============================] - 73s 39ms/step - loss: 0.0401 - accuracy: 0.9907\n",
            "Epoch 25/30\n",
            "1875/1875 [==============================] - 77s 41ms/step - loss: 0.0415 - accuracy: 0.9901\n",
            "Epoch 26/30\n",
            "1875/1875 [==============================] - 75s 40ms/step - loss: 0.0370 - accuracy: 0.9910\n",
            "Epoch 27/30\n",
            "1875/1875 [==============================] - 74s 39ms/step - loss: 0.0397 - accuracy: 0.9907\n",
            "Epoch 28/30\n",
            "1875/1875 [==============================] - 77s 41ms/step - loss: 0.0391 - accuracy: 0.9909\n",
            "Epoch 29/30\n",
            "1875/1875 [==============================] - 73s 39ms/step - loss: 0.0396 - accuracy: 0.9911\n",
            "Epoch 30/30\n",
            "1875/1875 [==============================] - 76s 41ms/step - loss: 0.0368 - accuracy: 0.9919\n"
          ]
        },
        {
          "output_type": "execute_result",
          "data": {
            "text/plain": [
              "<keras.callbacks.History at 0x7f1a19305b70>"
            ]
          },
          "metadata": {},
          "execution_count": 39
        }
      ]
    },
    {
      "cell_type": "code",
      "source": [
        "test_loss, test_acc = model.evaluate(test_images, test_labels)"
      ],
      "metadata": {
        "colab": {
          "base_uri": "https://localhost:8080/"
        },
        "id": "mjbCIQ6l5mcG",
        "outputId": "58e6f035-38f3-44f4-e2bf-b9408fbc9dd4"
      },
      "execution_count": 40,
      "outputs": [
        {
          "output_type": "stream",
          "name": "stdout",
          "text": [
            "313/313 [==============================] - 5s 15ms/step - loss: 0.0549 - accuracy: 0.9897\n"
          ]
        }
      ]
    }
  ]
}