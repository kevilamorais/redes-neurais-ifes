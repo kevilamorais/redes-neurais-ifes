{
  "nbformat": 4,
  "nbformat_minor": 0,
  "metadata": {
    "colab": {
      "provenance": []
    },
    "kernelspec": {
      "name": "python3",
      "display_name": "Python 3"
    },
    "language_info": {
      "name": "python"
    }
  },
  "cells": [
    {
      "cell_type": "markdown",
      "source": [
        "# Reuters\n",
        "Treinar um modelo multicamadas usando Keras para a base de dados reuters de tensorflow.keras.datasets."
      ],
      "metadata": {
        "id": "I9lSaut2OT7c"
      }
    },
    {
      "cell_type": "code",
      "execution_count": null,
      "metadata": {
        "id": "tEsIEAZYaWfS"
      },
      "outputs": [],
      "source": [
        "import tensorflow"
      ]
    },
    {
      "cell_type": "code",
      "source": [
        "from tensorflow.keras.datasets import reuters"
      ],
      "metadata": {
        "id": "SquNJGKQaZAR"
      },
      "execution_count": null,
      "outputs": []
    },
    {
      "cell_type": "code",
      "source": [
        "from tensorflow.keras.datasets import reuters\n",
        "(train_data, train_labels), (test_data, test_labels) = reuters.load_data(num_words=20000)\n",
        "train_data.shape, train_labels.shape, test_data.shape, test_labels.shape"
      ],
      "metadata": {
        "colab": {
          "base_uri": "https://localhost:8080/"
        },
        "id": "jbxMnOeragOR",
        "outputId": "e1c5df15-57d5-40a0-d791-1a7377488be6"
      },
      "execution_count": null,
      "outputs": [
        {
          "output_type": "execute_result",
          "data": {
            "text/plain": [
              "((8982,), (8982,), (2246,), (2246,))"
            ]
          },
          "metadata": {},
          "execution_count": 3
        }
      ]
    },
    {
      "cell_type": "code",
      "source": [
        "def decode_words(word_index, sentence):\n",
        "    reverse_word_index = dict(\n",
        "        [(value, key) for (key, value) in word_index.items()]\n",
        "    )\n",
        "    return \" \".join(\n",
        "        [reverse_word_index.get(i-3, \"?\") for i in sentence]\n",
        "    )\n",
        "decode_words(reuters.get_word_index(), train_data[2])"
      ],
      "metadata": {
        "colab": {
          "base_uri": "https://localhost:8080/",
          "height": 87
        },
        "id": "tNIxLlladc6-",
        "outputId": "79e9fcd2-ffca-4d08-b096-d14ee9cfdc8f"
      },
      "execution_count": null,
      "outputs": [
        {
          "output_type": "execute_result",
          "data": {
            "text/plain": [
              "'? shr 3 28 dlrs vs 22 cts shr diluted 2 99 dlrs vs 22 cts net 46 0 mln vs 3 328 000 avg shrs 14 0 mln vs 15 2 mln year shr 5 41 dlrs vs 1 56 dlrs shr diluted 4 94 dlrs vs 1 50 dlrs net 78 2 mln vs 25 9 mln avg shrs 14 5 mln vs 15 1 mln note earnings per share reflect the two for one split effective january 6 1987 per share amounts are calculated after preferred stock dividends loss continuing operations for the qtr 1986 includes gains of sale of investments in enron corp of 14 mln dlrs and associated companies of 4 189 000 less writedowns of investments in national intergroup inc of 11 8 mln and ? corp of 15 6 mln reuter 3'"
            ],
            "application/vnd.google.colaboratory.intrinsic+json": {
              "type": "string"
            }
          },
          "metadata": {},
          "execution_count": 4
        }
      ]
    },
    {
      "cell_type": "code",
      "source": [
        "import numpy as np\n",
        "\n",
        "def vectorize_sequences(sequences, dimension=20000):\n",
        "  results = np.zeros((len(sequences), dimension))\n",
        "  for i, sequence in enumerate(sequences):\n",
        "    for j in sequence:\n",
        "      results[i, j] = 1\n",
        "  return results\n",
        "\n",
        "x_train = vectorize_sequences(train_data)\n",
        "x_test = vectorize_sequences(test_data)\n",
        "y_train = np.array(train_labels).astype(\"float32\")\n",
        "y_test = np.array(test_labels).astype(\"float32\")\n",
        "x_train.shape, y_train.shape, x_test.shape, y_test.shape\n",
        "     \n"
      ],
      "metadata": {
        "colab": {
          "base_uri": "https://localhost:8080/"
        },
        "id": "tKgmVcW8df-4",
        "outputId": "8974adf0-a2bc-486b-ede0-3d2305a5e6d5"
      },
      "execution_count": null,
      "outputs": [
        {
          "output_type": "execute_result",
          "data": {
            "text/plain": [
              "((8982, 20000), (8982,), (2246, 20000), (2246,))"
            ]
          },
          "metadata": {},
          "execution_count": 5
        }
      ]
    },
    {
      "cell_type": "code",
      "source": [
        "from keras.utils.np_utils import to_categorical\n",
        "\n",
        "y_train = to_categorical(y_train)\n",
        "y_test = to_categorical(y_test)"
      ],
      "metadata": {
        "id": "ZSCwq9QHgaju"
      },
      "execution_count": null,
      "outputs": []
    },
    {
      "cell_type": "code",
      "source": [
        "from keras import models\n",
        "from keras import layers\n",
        "\n",
        "model = models.Sequential()\n",
        "model.add(layers.Dense(80, activation='relu', input_shape=(20000,)))\n",
        "\n",
        "model.add(layers.Dense(46, activation='softmax'))\n",
        "\n",
        "model.compile(optimizer='rmsprop',\n",
        "              loss='categorical_crossentropy',\n",
        "              metrics=['accuracy'])\n",
        "     "
      ],
      "metadata": {
        "id": "yHJx2G81dmds"
      },
      "execution_count": null,
      "outputs": []
    },
    {
      "cell_type": "code",
      "source": [
        "model.summary()"
      ],
      "metadata": {
        "colab": {
          "base_uri": "https://localhost:8080/"
        },
        "id": "UgAZcIVDoDLX",
        "outputId": "c61b1dce-f53f-4952-bb93-e70cbb556b46"
      },
      "execution_count": null,
      "outputs": [
        {
          "output_type": "stream",
          "name": "stdout",
          "text": [
            "Model: \"sequential_22\"\n",
            "_________________________________________________________________\n",
            " Layer (type)                Output Shape              Param #   \n",
            "=================================================================\n",
            " dense_59 (Dense)            (None, 80)                1600080   \n",
            "                                                                 \n",
            " dense_60 (Dense)            (None, 46)                3726      \n",
            "                                                                 \n",
            "=================================================================\n",
            "Total params: 1,603,806\n",
            "Trainable params: 1,603,806\n",
            "Non-trainable params: 0\n",
            "_________________________________________________________________\n"
          ]
        }
      ]
    },
    {
      "cell_type": "code",
      "source": [
        "x_val = x_train[:2000]\n",
        "partial_x_train = x_train[2000:]\n",
        "\n",
        "y_val = y_train[:2000]\n",
        "partial_y_train = y_train[2000:]\n"
      ],
      "metadata": {
        "id": "v50W_XuvdqYf"
      },
      "execution_count": null,
      "outputs": []
    },
    {
      "cell_type": "code",
      "source": [
        "history = model.fit(partial_x_train, partial_y_train,\n",
        "                    epochs=11, batch_size=512, verbose = 1,\n",
        "                    validation_data=(x_val, y_val))\n",
        "     "
      ],
      "metadata": {
        "colab": {
          "base_uri": "https://localhost:8080/"
        },
        "id": "Ks4H9kzMdu0H",
        "outputId": "6dc5b6cf-7c8f-4a23-acc8-d2cd02ee9433"
      },
      "execution_count": null,
      "outputs": [
        {
          "output_type": "stream",
          "name": "stdout",
          "text": [
            "Epoch 1/11\n",
            "14/14 [==============================] - 2s 155ms/step - loss: 0.3744 - accuracy: 0.9255 - val_loss: 0.9133 - val_accuracy: 0.7955\n",
            "Epoch 2/11\n",
            "14/14 [==============================] - 2s 139ms/step - loss: 0.3250 - accuracy: 0.9348 - val_loss: 0.8930 - val_accuracy: 0.7995\n",
            "Epoch 3/11\n",
            "14/14 [==============================] - 2s 137ms/step - loss: 0.2839 - accuracy: 0.9423 - val_loss: 0.8862 - val_accuracy: 0.8015\n",
            "Epoch 4/11\n",
            "14/14 [==============================] - 2s 137ms/step - loss: 0.2493 - accuracy: 0.9466 - val_loss: 0.8798 - val_accuracy: 0.8075\n",
            "Epoch 5/11\n",
            "14/14 [==============================] - 3s 207ms/step - loss: 0.2244 - accuracy: 0.9492 - val_loss: 0.8760 - val_accuracy: 0.8045\n",
            "Epoch 6/11\n",
            "14/14 [==============================] - 2s 140ms/step - loss: 0.1992 - accuracy: 0.9533 - val_loss: 0.8815 - val_accuracy: 0.8030\n",
            "Epoch 7/11\n",
            "14/14 [==============================] - 2s 118ms/step - loss: 0.1814 - accuracy: 0.9556 - val_loss: 0.8753 - val_accuracy: 0.8075\n",
            "Epoch 8/11\n",
            "14/14 [==============================] - 2s 115ms/step - loss: 0.1661 - accuracy: 0.9557 - val_loss: 0.8951 - val_accuracy: 0.8035\n",
            "Epoch 9/11\n",
            "14/14 [==============================] - 2s 135ms/step - loss: 0.1545 - accuracy: 0.9590 - val_loss: 0.8865 - val_accuracy: 0.8005\n",
            "Epoch 10/11\n",
            "14/14 [==============================] - 2s 136ms/step - loss: 0.1424 - accuracy: 0.9586 - val_loss: 0.9076 - val_accuracy: 0.8010\n",
            "Epoch 11/11\n",
            "14/14 [==============================] - 2s 177ms/step - loss: 0.1343 - accuracy: 0.9600 - val_loss: 0.8963 - val_accuracy: 0.8045\n"
          ]
        }
      ]
    },
    {
      "cell_type": "code",
      "source": [
        "print(model.evaluate(x_test, y_test))"
      ],
      "metadata": {
        "colab": {
          "base_uri": "https://localhost:8080/"
        },
        "id": "lxWLa20El0AF",
        "outputId": "b31be66d-03d5-41f6-d13b-0ce5156eefdc"
      },
      "execution_count": null,
      "outputs": [
        {
          "output_type": "stream",
          "name": "stdout",
          "text": [
            "71/71 [==============================] - 0s 6ms/step - loss: 0.9166 - accuracy: 0.8001\n",
            "[0.9166142344474792, 0.8000890612602234]\n"
          ]
        }
      ]
    },
    {
      "cell_type": "code",
      "source": [
        "import matplotlib.pyplot as plt\n",
        "history_dict = history.history\n",
        "loss_values = history_dict[\"loss\"]\n",
        "val_loss_values = history_dict[\"val_loss\"]\n",
        "epochs = range(1, len(loss_values)+1)\n",
        "plt.plot(epochs, loss_values, \"bo\", label=\"Trainig loss\")\n",
        "plt.plot(epochs, val_loss_values, \"b\", label=\"validation loss\")\n",
        "plt.title(\"Training and validation loss\")\n",
        "plt.xlabel(\"Epochs\")\n",
        "plt.ylabel(\"Loss\")\n",
        "plt.legend()\n",
        "plt.show()"
      ],
      "metadata": {
        "colab": {
          "base_uri": "https://localhost:8080/",
          "height": 472
        },
        "id": "c09urbeIitQE",
        "outputId": "6909c3e5-aaee-4268-d864-ad0647b2cf2a"
      },
      "execution_count": null,
      "outputs": [
        {
          "output_type": "display_data",
          "data": {
            "text/plain": [
              "<Figure size 640x480 with 1 Axes>"
            ],
            "image/png": "[encoded data removed]"
          },
          "metadata": {}
        }
      ]
    },
    {
      "cell_type": "code",
      "source": [
        "history_dict = history.history\n",
        "accuracy_values = history_dict[\"accuracy\"]\n",
        "val_accuracy_values = history_dict[\"val_accuracy\"]\n",
        "epochs = range(1, len(accuracy_values)+1)\n",
        "plt.plot(epochs, accuracy_values, \"bo\", label=\"Trainig acc\")\n",
        "plt.plot(epochs, val_accuracy_values, \"b\", label=\"validation acc\")\n",
        "plt.title(\"Training and validation accuracy\")\n",
        "plt.xlabel(\"Epochs\")\n",
        "plt.ylabel(\"Accuracy\")\n",
        "plt.legend()\n",
        "plt.show()\n",
        "     \n"
      ],
      "metadata": {
        "colab": {
          "base_uri": "https://localhost:8080/",
          "height": 472
        },
        "id": "-vNiz4Ipiv02",
        "outputId": "04e36da8-0624-4e22-bbe9-6d48aaf698eb"
      },
      "execution_count": null,
      "outputs": [
        {
          "output_type": "display_data",
          "data": {
            "text/plain": [
              "<Figure size 640x480 with 1 Axes>"
            ],
            "image/png": "[encoded data removed]"
          },
          "metadata": {}
        }
      ]
    },
    {
      "cell_type": "code",
      "source": [],
      "metadata": {
        "id": "Mhe4x5vqpsFh"
      },
      "execution_count": null,
      "outputs": []
    }
  ]
}